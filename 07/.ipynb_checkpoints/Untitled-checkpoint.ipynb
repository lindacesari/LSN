{
 "cells": [
  {
   "cell_type": "code",
   "execution_count": 2,
   "metadata": {},
   "outputs": [],
   "source": [
    "import matplotlib.pyplot as plt\n",
    "import numpy as np\n",
    "import math\n",
    "from scipy import stats\n",
    "from scipy import optimize\n",
    "from scipy.stats import norm"
   ]
  },
  {
   "cell_type": "code",
   "execution_count": 14,
   "metadata": {},
   "outputs": [],
   "source": [
    "press = np.genfromtxt(\"MonteCarlo_NVT/pressures.0\", dtype=float)"
   ]
  },
  {
   "cell_type": "code",
   "execution_count": 17,
   "metadata": {},
   "outputs": [],
   "source": [
    "def autocorrelation_t(press, t, t_max):\n",
    "    \n",
    "    # sum of products\n",
    "    sum1 = 0\n",
    "    for t_primo in range(t_max-t):\n",
    "        sum1 = sum1 + press[t_primo]*press[t_primo+t]\n",
    "    \n",
    "    # sum in t'\n",
    "    sum2 = 0\n",
    "    for t_primo in range(t_max-t):\n",
    "        sum2 = sum2 + press[t_primo]\n",
    "        \n",
    "    # sum in t'+t\n",
    "    sum3 = 0\n",
    "    for t_primo in range(t_max-t):\n",
    "        sum3 = sum3 + press[t_primo+t]\n",
    "     \n",
    "    # normalization - sum of squares in t'\n",
    "    sum4 = 0\n",
    "    for t_primo in range(t_max):\n",
    "        sum4 = sum4 + press[t_primo]**2\n",
    "      \n",
    "    # normalization - sum in t'\n",
    "    sum5 = 0\n",
    "    for t_primo in range(t_max):\n",
    "        sum5 = sum5 + press[t_primo]\n",
    "    \n",
    "    num = 1./(t_max-t) * sum1 - (1./(t_max-t) * sum2) * (1./(t_max-t) * sum3)\n",
    "        \n",
    "    den = 1./t_max * sum4 - (1./t_max * sum5)**2\n",
    "    \n",
    "    return num / den\n",
    "\n",
    "def autocorrelation(press, t_max):\n",
    "    \n",
    "    ac = []\n",
    "    for t in range(t_max):\n",
    "        ac.append(autocorrelation_t(press, t, t_max))\n",
    "        \n",
    "    return ac"
   ]
  },
  {
   "cell_type": "code",
   "execution_count": 12,
   "metadata": {},
   "outputs": [],
   "source": [
    "ac = autocorrelation(press, t_max=20000)"
   ]
  },
  {
   "cell_type": "code",
   "execution_count": 16,
   "metadata": {},
   "outputs": [
    {
     "data": {
      "text/plain": [
       "[<matplotlib.lines.Line2D at 0x7f96127a15b0>]"
      ]
     },
     "execution_count": 16,
     "metadata": {},
     "output_type": "execute_result"
    },
    {
     "data": {
      "image/png": "[encoded data removed]",
      "text/plain": [
       "<Figure size 432x288 with 1 Axes>"
      ]
     },
     "metadata": {
      "needs_background": "light"
     },
     "output_type": "display_data"
    }
   ],
   "source": [
    "plt.plot(ac[:100])"
   ]
  },
  {
   "cell_type": "code",
   "execution_count": null,
   "metadata": {},
   "outputs": [],
   "source": []
  }
 ],
 "metadata": {
  "kernelspec": {
   "display_name": "Python 3",
   "language": "python",
   "name": "python3"
  },
  "language_info": {
   "codemirror_mode": {
    "name": "ipython",
    "version": 3
   },
   "file_extension": ".py",
   "mimetype": "text/x-python",
   "name": "python",
   "nbconvert_exporter": "python",
   "pygments_lexer": "ipython3",
   "version": "3.8.5"
  }
 },
 "nbformat": 4,
 "nbformat_minor": 4
}
